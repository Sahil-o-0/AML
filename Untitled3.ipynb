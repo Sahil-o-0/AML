{
  "nbformat": 4,
  "nbformat_minor": 0,
  "metadata": {
    "colab": {
      "provenance": []
    },
    "kernelspec": {
      "name": "python3",
      "display_name": "Python 3"
    },
    "language_info": {
      "name": "python"
    }
  },
  "cells": [
    {
      "cell_type": "code",
      "execution_count": 16,
      "metadata": {
        "id": "sjJFxkHyjXVZ"
      },
      "outputs": [],
      "source": [
        "from nltk.stem import WordNetLemmatizer"
      ]
    },
    {
      "cell_type": "code",
      "source": [
        "words = ['table', 'probably', 'wolves', 'playing', 'is',\n",
        "'dog', 'the', 'beaches', 'grounded', 'dreamt',\n",
        "'envision']\n"
      ],
      "metadata": {
        "id": "0lx-U7aGkTvK"
      },
      "execution_count": 17,
      "outputs": []
    },
    {
      "cell_type": "code",
      "source": [
        "# Compare different lemmatizers\n",
        "lemmatizers = ['NOUN LEMMATIZER', 'VERB LEMMATIZER']\n"
      ],
      "metadata": {
        "id": "PcI9i0L2kyLM"
      },
      "execution_count": 18,
      "outputs": []
    },
    {
      "cell_type": "code",
      "source": [
        "lemmatizer_wordnet = WordNetLemmatizer()\n"
      ],
      "metadata": {
        "id": "xqMIC4dsk1bm"
      },
      "execution_count": 19,
      "outputs": []
    },
    {
      "cell_type": "code",
      "source": [
        "formatted_row = '{:>24}' * (len(lemmatizers) + 1)\n",
        "print('\\n', formatted_row.format('WORD', *lemmatizers), '\\n')"
      ],
      "metadata": {
        "colab": {
          "base_uri": "https://localhost:8080/"
        },
        "id": "mIDFZKrsk3jO",
        "outputId": "fa8f40f2-e999-4334-d478-1ebce0c32185"
      },
      "execution_count": 20,
      "outputs": [
        {
          "output_type": "stream",
          "name": "stdout",
          "text": [
            "\n",
            "                     WORD         NOUN LEMMATIZER         VERB LEMMATIZER \n",
            "\n"
          ]
        }
      ]
    },
    {
      "cell_type": "code",
      "source": [
        "import nltk\n",
        "nltk.download('wordnet')\n"
      ],
      "metadata": {
        "id": "GSbk8xbJnL_d",
        "outputId": "132a491d-50c4-4d49-a403-1278bcfb0314",
        "colab": {
          "base_uri": "https://localhost:8080/"
        }
      },
      "execution_count": 21,
      "outputs": [
        {
          "output_type": "stream",
          "name": "stderr",
          "text": [
            "[nltk_data] Downloading package wordnet to /root/nltk_data...\n",
            "[nltk_data]   Package wordnet is already up-to-date!\n"
          ]
        },
        {
          "output_type": "execute_result",
          "data": {
            "text/plain": [
              "True"
            ]
          },
          "metadata": {},
          "execution_count": 21
        }
      ]
    },
    {
      "cell_type": "code",
      "source": [
        "for word in words:\n",
        "  lemmatized_words = [lemmatizer_wordnet.lemmatize(word,pos='n'),lemmatizer_wordnet.lemmatize(word, pos='v')]\n",
        "  print (formatted_row.format(word, *lemmatized_words))"
      ],
      "metadata": {
        "id": "dpwxqVkpnRxY",
        "outputId": "5a09c5d7-b130-4694-878e-ea429a1cabeb",
        "colab": {
          "base_uri": "https://localhost:8080/"
        }
      },
      "execution_count": 22,
      "outputs": [
        {
          "output_type": "stream",
          "name": "stdout",
          "text": [
            "                   table                   table                   table\n",
            "                probably                probably                probably\n",
            "                  wolves                    wolf                  wolves\n",
            "                 playing                 playing                    play\n",
            "                      is                      is                      be\n",
            "                     dog                     dog                     dog\n",
            "                     the                     the                     the\n",
            "                 beaches                   beach                   beach\n",
            "                grounded                grounded                  ground\n",
            "                  dreamt                  dreamt                   dream\n",
            "                envision                envision                envision\n"
          ]
        }
      ]
    },
    {
      "cell_type": "code",
      "source": [],
      "metadata": {
        "id": "3Vrc7CFrnVUg"
      },
      "execution_count": null,
      "outputs": []
    }
  ]
}